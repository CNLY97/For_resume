{
  "nbformat": 4,
  "nbformat_minor": 0,
  "metadata": {
    "colab": {
      "name": "HW5_LY_3.ipynb",
      "provenance": []
    },
    "kernelspec": {
      "name": "python3",
      "display_name": "Python 3"
    },
    "language_info": {
      "name": "python"
    },
    "accelerator": "GPU"
  },
  "cells": [
    {
      "cell_type": "markdown",
      "source": [
        "import data"
      ],
      "metadata": {
        "id": "45sy9j6mS-2p"
      }
    },
    {
      "cell_type": "code",
      "execution_count": null,
      "metadata": {
        "id": "pEkXmwFkS7em",
        "colab": {
          "base_uri": "https://localhost:8080/"
        },
        "outputId": "570fb892-5371-4e93-fac2-d278b5ac5daa"
      },
      "outputs": [
        {
          "output_type": "stream",
          "name": "stdout",
          "text": [
            "Downloading data from https://storage.googleapis.com/tensorflow/tf-keras-datasets/train-labels-idx1-ubyte.gz\n",
            "32768/29515 [=================================] - 0s 0us/step\n",
            "40960/29515 [=========================================] - 0s 0us/step\n",
            "Downloading data from https://storage.googleapis.com/tensorflow/tf-keras-datasets/train-images-idx3-ubyte.gz\n",
            "26427392/26421880 [==============================] - 1s 0us/step\n",
            "26435584/26421880 [==============================] - 1s 0us/step\n",
            "Downloading data from https://storage.googleapis.com/tensorflow/tf-keras-datasets/t10k-labels-idx1-ubyte.gz\n",
            "16384/5148 [===============================================================================================] - 0s 0us/step\n",
            "Downloading data from https://storage.googleapis.com/tensorflow/tf-keras-datasets/t10k-images-idx3-ubyte.gz\n",
            "4423680/4422102 [==============================] - 0s 0us/step\n",
            "4431872/4422102 [==============================] - 0s 0us/step\n"
          ]
        }
      ],
      "source": [
        "import os\n",
        "import numpy as np\n",
        "import pandas as pd\n",
        "import tensorflow as tf\n",
        "fashion_mnist = tf.keras.datasets.fashion_mnist\n",
        "(x_train, y_train), (x_test, y_test) = fashion_mnist.load_data()"
      ]
    },
    {
      "cell_type": "code",
      "source": [
        "x_train.shape"
      ],
      "metadata": {
        "colab": {
          "base_uri": "https://localhost:8080/"
        },
        "id": "0BEQCfXFJsLp",
        "outputId": "5ada3bf7-189b-48fb-bc91-a286c6e8d6d5"
      },
      "execution_count": null,
      "outputs": [
        {
          "output_type": "execute_result",
          "data": {
            "text/plain": [
              "(60000, 28, 28)"
            ]
          },
          "metadata": {},
          "execution_count": 2
        }
      ]
    },
    {
      "cell_type": "code",
      "source": [
        "len(y_train)"
      ],
      "metadata": {
        "colab": {
          "base_uri": "https://localhost:8080/"
        },
        "id": "3CSjQSr8YCAH",
        "outputId": "6acb25db-0ad0-46c2-ff23-d82630c0d9cb"
      },
      "execution_count": null,
      "outputs": [
        {
          "output_type": "execute_result",
          "data": {
            "text/plain": [
              "60000"
            ]
          },
          "metadata": {},
          "execution_count": 3
        }
      ]
    },
    {
      "cell_type": "code",
      "source": [
        "y_train"
      ],
      "metadata": {
        "colab": {
          "base_uri": "https://localhost:8080/"
        },
        "id": "4pRCKsDeYG3a",
        "outputId": "63aad144-a854-4b0f-f3bf-a94c03b58bf1"
      },
      "execution_count": null,
      "outputs": [
        {
          "output_type": "execute_result",
          "data": {
            "text/plain": [
              "array([9, 0, 0, ..., 3, 0, 5], dtype=uint8)"
            ]
          },
          "metadata": {},
          "execution_count": 4
        }
      ]
    },
    {
      "cell_type": "code",
      "source": [
        "x_test.shape"
      ],
      "metadata": {
        "colab": {
          "base_uri": "https://localhost:8080/"
        },
        "id": "vy0kCIsjYODL",
        "outputId": "2b5a5665-a95d-48c9-c09a-2418a5d6f1c8"
      },
      "execution_count": null,
      "outputs": [
        {
          "output_type": "execute_result",
          "data": {
            "text/plain": [
              "(10000, 28, 28)"
            ]
          },
          "metadata": {},
          "execution_count": 5
        }
      ]
    },
    {
      "cell_type": "code",
      "source": [
        "len(y_test)"
      ],
      "metadata": {
        "colab": {
          "base_uri": "https://localhost:8080/"
        },
        "id": "nw-GxayeYRL-",
        "outputId": "c4dacd18-bf69-4114-d62d-f7270335d395"
      },
      "execution_count": null,
      "outputs": [
        {
          "output_type": "execute_result",
          "data": {
            "text/plain": [
              "10000"
            ]
          },
          "metadata": {},
          "execution_count": 6
        }
      ]
    },
    {
      "cell_type": "markdown",
      "source": [
        "Show the image\n"
      ],
      "metadata": {
        "id": "iWF8Dtg-YSv4"
      }
    },
    {
      "cell_type": "code",
      "source": [
        "import matplotlib.pyplot as plt\n",
        "plt.figure()\n",
        "plt.imshow(x_train[1])\n",
        "plt.colorbar()\n",
        "plt.grid(which='major')\n",
        "plt.show()"
      ],
      "metadata": {
        "colab": {
          "base_uri": "https://localhost:8080/",
          "height": 265
        },
        "id": "oBjYSEUJYh5G",
        "outputId": "3a2cf881-e1f3-4ecb-fc33-2c5b92ea3ea3"
      },
      "execution_count": null,
      "outputs": [
        {
          "output_type": "display_data",
          "data": {
            "image/png": "[encoded data removed]",
            "text/plain": [
              "<Figure size 432x288 with 2 Axes>"
            ]
          },
          "metadata": {
            "needs_background": "light"
          }
        }
      ]
    },
    {
      "cell_type": "code",
      "source": [
        "y_train[1]"
      ],
      "metadata": {
        "colab": {
          "base_uri": "https://localhost:8080/"
        },
        "id": "dfLDcXvdUPyX",
        "outputId": "f6ada212-0a79-4aa3-a1e2-b8e6db2717f3"
      },
      "execution_count": null,
      "outputs": [
        {
          "output_type": "execute_result",
          "data": {
            "text/plain": [
              "0"
            ]
          },
          "metadata": {},
          "execution_count": 8
        }
      ]
    },
    {
      "cell_type": "markdown",
      "source": [
        "reshape"
      ],
      "metadata": {
        "id": "kXoNsTTpT7wl"
      }
    },
    {
      "cell_type": "code",
      "source": [
        "nsamples, nx, ny = x_train.shape\n",
        "x_train = x_train.reshape((nsamples,nx*ny))\n",
        "nsamples, nx, ny = x_test.shape\n",
        "x_test = x_test.reshape((nsamples,nx*ny))"
      ],
      "metadata": {
        "id": "AHEUkLg9jwXw"
      },
      "execution_count": null,
      "outputs": []
    },
    {
      "cell_type": "markdown",
      "source": [
        "normalization"
      ],
      "metadata": {
        "id": "_h7HSwQUaAUS"
      }
    },
    {
      "cell_type": "code",
      "source": [
        "from sklearn.preprocessing import MinMaxScaler\n",
        "scaler=MinMaxScaler()\n",
        "scaler.fit(x_train)\n",
        "x_train=scaler.transform(x_train)\n",
        "x_test=scaler.transform(x_test)"
      ],
      "metadata": {
        "id": "kQOigKnzkakF"
      },
      "execution_count": null,
      "outputs": []
    },
    {
      "cell_type": "markdown",
      "source": [
        "create a validation set"
      ],
      "metadata": {
        "id": "z5QCb7wDSluP"
      }
    },
    {
      "cell_type": "code",
      "source": [
        "from sklearn.model_selection import train_test_split\n",
        "x_train, x_val, y_train, y_val = train_test_split(x_train, y_train, test_size=0.1, random_state=0)\n",
        "print('train:', x_train.shape, y_train.shape)\n",
        "print('validation:', x_val.shape, y_val.shape)\n",
        "print('test:', x_test.shape, y_test.shape)"
      ],
      "metadata": {
        "colab": {
          "base_uri": "https://localhost:8080/"
        },
        "id": "33i4uvOiSrOi",
        "outputId": "46dcfd07-e957-44ad-b736-0eca593b939f"
      },
      "execution_count": null,
      "outputs": [
        {
          "output_type": "stream",
          "name": "stdout",
          "text": [
            "train: (54000, 784) (54000,)\n",
            "validation: (6000, 784) (6000,)\n",
            "test: (10000, 784) (10000,)\n"
          ]
        }
      ]
    },
    {
      "cell_type": "markdown",
      "source": [
        "apply LR"
      ],
      "metadata": {
        "id": "xEzT8HnTbhXF"
      }
    },
    {
      "cell_type": "code",
      "source": [
        "from sklearn.linear_model import LogisticRegression\n",
        "LR = LogisticRegression(fit_intercept=True,\n",
        "             multi_class='auto',\n",
        "             penalty='l2',\n",
        "             solver='lbfgs',\n",
        "             max_iter=10000,\n",
        "             C=1)\n",
        "LR.fit(x_train, y_train)"
      ],
      "metadata": {
        "colab": {
          "base_uri": "https://localhost:8080/"
        },
        "id": "5-9nSExkP2vn",
        "outputId": "8ae57695-436d-4ed5-b8fa-77d817fe6ae4"
      },
      "execution_count": null,
      "outputs": [
        {
          "output_type": "execute_result",
          "data": {
            "text/plain": [
              "LogisticRegression(C=1, max_iter=10000)"
            ]
          },
          "metadata": {},
          "execution_count": 12
        }
      ]
    },
    {
      "cell_type": "code",
      "source": [
        "result=LR.score(x_test,y_test)\n",
        "print(\"Accuracy: %.2f%%\" % (result*100.0))"
      ],
      "metadata": {
        "colab": {
          "base_uri": "https://localhost:8080/"
        },
        "id": "XnB6jFS0QgZo",
        "outputId": "10833c82-eede-4edb-9dea-0d248c8ed630"
      },
      "execution_count": null,
      "outputs": [
        {
          "output_type": "stream",
          "name": "stdout",
          "text": [
            "Accuracy: 84.45%\n"
          ]
        }
      ]
    },
    {
      "cell_type": "markdown",
      "source": [
        "RandomForest"
      ],
      "metadata": {
        "id": "MOD6Ua4GRY1b"
      }
    },
    {
      "cell_type": "code",
      "source": [
        "from sklearn.ensemble import RandomForestClassifier\n",
        "randomForestC = RandomForestClassifier(n_estimators=100,\n",
        "                     criterion='entropy',\n",
        "                     max_depth=100,\n",
        "                     random_state=0)\n",
        "randomForestC.fit(x_train, y_train)\n"
      ],
      "metadata": {
        "colab": {
          "base_uri": "https://localhost:8080/"
        },
        "id": "ye05PcadJS2F",
        "outputId": "aa31e881-44b6-44e1-80ff-3f0824691d11"
      },
      "execution_count": null,
      "outputs": [
        {
          "output_type": "execute_result",
          "data": {
            "text/plain": [
              "RandomForestClassifier(criterion='entropy', max_depth=100, random_state=0)"
            ]
          },
          "metadata": {},
          "execution_count": 14
        }
      ]
    },
    {
      "cell_type": "code",
      "source": [
        "result=randomForestC.score(x_test,y_test)\n",
        "print(\"Accuracy: %.2f%%\" % (result*100.0))"
      ],
      "metadata": {
        "colab": {
          "base_uri": "https://localhost:8080/"
        },
        "id": "iLNs-WHiJlN9",
        "outputId": "cd28be93-ede3-4bb4-8031-8ae49bdb4eac"
      },
      "execution_count": null,
      "outputs": [
        {
          "output_type": "stream",
          "name": "stdout",
          "text": [
            "Accuracy: 87.67%\n"
          ]
        }
      ]
    },
    {
      "cell_type": "markdown",
      "source": [
        "hyperparameter "
      ],
      "metadata": {
        "id": "QTHEvKvPJvKU"
      }
    },
    {
      "cell_type": "code",
      "source": [
        "parameter_space = {\"max_depth\": [60, 80, 100],\n",
        "          \"criterion\": [\"gini\", \"entropy\"]}"
      ],
      "metadata": {
        "id": "34cWrFr8tDsL"
      },
      "execution_count": null,
      "outputs": []
    },
    {
      "cell_type": "code",
      "source": [
        "from sklearn.ensemble import RandomForestClassifier\n",
        "from sklearn.model_selection import GridSearchCV\n",
        "RF = RandomForestClassifier(random_state=0)\n",
        "grid_RF = GridSearchCV(RF, parameter_space)\n",
        "grid_RF.fit(x_train, y_train)\n",
        "print(grid_RF.best_estimator_)"
      ],
      "metadata": {
        "colab": {
          "base_uri": "https://localhost:8080/"
        },
        "id": "Unfkyh9gRbfM",
        "outputId": "bd97b5bd-dc5d-44b8-f4f1-d74fdecd7c0b"
      },
      "execution_count": null,
      "outputs": [
        {
          "output_type": "stream",
          "name": "stdout",
          "text": [
            "RandomForestClassifier(criterion='entropy', max_depth=60, random_state=0)\n"
          ]
        }
      ]
    },
    {
      "cell_type": "code",
      "source": [
        "print(\"Accuracy: %.2f%%\" % (grid_RF.best_score_*100.0))"
      ],
      "metadata": {
        "colab": {
          "base_uri": "https://localhost:8080/"
        },
        "id": "lGNj59g4OXX7",
        "outputId": "98eecbf0-182f-4e60-ecb0-9f785eb86409"
      },
      "execution_count": null,
      "outputs": [
        {
          "output_type": "stream",
          "name": "stdout",
          "text": [
            "Accuracy: 88.19%\n"
          ]
        }
      ]
    },
    {
      "cell_type": "markdown",
      "source": [
        "MLP"
      ],
      "metadata": {
        "id": "110sRf9oaWmi"
      }
    },
    {
      "cell_type": "markdown",
      "source": [
        "Define the MLP model"
      ],
      "metadata": {
        "id": "EjBEZ8JrHxmY"
      }
    },
    {
      "cell_type": "code",
      "source": [
        "import tensorflow.keras as keras\n",
        "import sys\n",
        "sys.modules['keras'] = keras\n",
        "from tensorflow.keras.models import Sequential\n",
        "from tensorflow.keras.layers import Dense\n",
        "from tensorflow.keras.optimizers import SGD"
      ],
      "metadata": {
        "id": "S39CKZ2waZUV"
      },
      "execution_count": null,
      "outputs": []
    },
    {
      "cell_type": "code",
      "source": [
        "model = Sequential()\n",
        "model.add(Dense(units=256, activation='relu', input_shape=(784,)))\n",
        "model.add(Dense(units=256, activation='relu'))\n",
        "model.add(Dense(units=10, activation='softmax'))\n",
        "model.compile(loss='categorical_crossentropy', optimizer=SGD(lr=0.01), metrics=['accuracy'])\n",
        "model.summary()"
      ],
      "metadata": {
        "colab": {
          "base_uri": "https://localhost:8080/"
        },
        "id": "zR9zMhm8KLHy",
        "outputId": "12747f33-1d2e-4656-ff0a-b35f1a60528d"
      },
      "execution_count": null,
      "outputs": [
        {
          "output_type": "stream",
          "name": "stdout",
          "text": [
            "Model: \"sequential\"\n",
            "_________________________________________________________________\n",
            " Layer (type)                Output Shape              Param #   \n",
            "=================================================================\n",
            " dense (Dense)               (None, 256)               200960    \n",
            "                                                                 \n",
            " dense_1 (Dense)             (None, 256)               65792     \n",
            "                                                                 \n",
            " dense_2 (Dense)             (None, 10)                2570      \n",
            "                                                                 \n",
            "=================================================================\n",
            "Total params: 269,322\n",
            "Trainable params: 269,322\n",
            "Non-trainable params: 0\n",
            "_________________________________________________________________\n"
          ]
        },
        {
          "output_type": "stream",
          "name": "stderr",
          "text": [
            "/usr/local/lib/python3.7/dist-packages/keras/optimizer_v2/gradient_descent.py:102: UserWarning: The `lr` argument is deprecated, use `learning_rate` instead.\n",
            "  super(SGD, self).__init__(name, **kwargs)\n"
          ]
        }
      ]
    },
    {
      "cell_type": "code",
      "source": [
        "loss_train_list=[]\n",
        "loss_val_list=[]\n",
        "print('train:', x_train.shape, y_train.shape)\n",
        "print('validation:', x_val.shape, y_val.shape)\n",
        "print('test:', x_test.shape, y_test.shape)"
      ],
      "metadata": {
        "colab": {
          "base_uri": "https://localhost:8080/"
        },
        "id": "gajU5nthQaxG",
        "outputId": "9420841f-4c80-4b1d-cbe9-482bd339b51e"
      },
      "execution_count": null,
      "outputs": [
        {
          "output_type": "stream",
          "name": "stdout",
          "text": [
            "train: (54000, 784) (54000,)\n",
            "validation: (6000, 784) (6000,)\n",
            "test: (10000, 784) (10000,)\n"
          ]
        }
      ]
    },
    {
      "cell_type": "code",
      "source": [
        "y_trainMLP = keras.utils.to_categorical(y_train, 10)\n",
        "y_valMLP = keras.utils.to_categorical(y_val, 10)\n",
        "y_testMLP = keras.utils.to_categorical(y_test, 10)\n",
        "print('train:', x_train.shape, y_trainMLP.shape)\n",
        "print('validation:', x_val.shape, y_valMLP.shape)\n",
        "print('test:', x_test.shape, y_testMLP.shape)"
      ],
      "metadata": {
        "colab": {
          "base_uri": "https://localhost:8080/"
        },
        "id": "85x2HLj3QjJ2",
        "outputId": "39bc1db7-d884-45af-8936-b6591c1f4e29"
      },
      "execution_count": null,
      "outputs": [
        {
          "output_type": "stream",
          "name": "stdout",
          "text": [
            "train: (54000, 784) (54000, 10)\n",
            "validation: (6000, 784) (6000, 10)\n",
            "test: (10000, 784) (10000, 10)\n"
          ]
        }
      ]
    },
    {
      "cell_type": "markdown",
      "source": [
        "train the model"
      ],
      "metadata": {
        "id": "m8WcwIAxH0TJ"
      }
    },
    {
      "cell_type": "code",
      "source": [
        "acc_train_list=[]\n",
        "acc_val_list=[]\n",
        "for epoch in range(0, 65):\n",
        "    #set epochs=1\n",
        "    print('epoch', epoch)\n",
        "    history=model.fit(x_train, y_trainMLP, batch_size=64, epochs=1, validation_data=(x_val, y_valMLP))\n",
        "    loss_train_list.extend(history.history['loss'])\n",
        "    loss_val_list.extend(history.history['val_loss'])\n",
        "    acc_train_list.extend(history.history['accuracy'])\n",
        "    acc_val_list.extend(history.history['val_accuracy'])"
      ],
      "metadata": {
        "id": "qfqwvZoZRdkf",
        "colab": {
          "base_uri": "https://localhost:8080/"
        },
        "outputId": "b27a8267-c045-4c1a-a324-d69e29cac5ea"
      },
      "execution_count": null,
      "outputs": [
        {
          "output_type": "stream",
          "name": "stdout",
          "text": [
            "epoch 0\n",
            "844/844 [==============================] - 5s 4ms/step - loss: 0.8895 - accuracy: 0.7179 - val_loss: 0.6263 - val_accuracy: 0.7882\n",
            "epoch 1\n",
            "844/844 [==============================] - 3s 4ms/step - loss: 0.5599 - accuracy: 0.8119 - val_loss: 0.5422 - val_accuracy: 0.8090\n",
            "epoch 2\n",
            "844/844 [==============================] - 3s 4ms/step - loss: 0.4991 - accuracy: 0.8292 - val_loss: 0.4841 - val_accuracy: 0.8327\n",
            "epoch 3\n",
            "844/844 [==============================] - 3s 4ms/step - loss: 0.4664 - accuracy: 0.8386 - val_loss: 0.4634 - val_accuracy: 0.8460\n",
            "epoch 4\n",
            "844/844 [==============================] - 3s 4ms/step - loss: 0.4443 - accuracy: 0.8472 - val_loss: 0.4352 - val_accuracy: 0.8510\n",
            "epoch 5\n",
            "844/844 [==============================] - 3s 4ms/step - loss: 0.4297 - accuracy: 0.8503 - val_loss: 0.4268 - val_accuracy: 0.8548\n",
            "epoch 6\n",
            "844/844 [==============================] - 3s 4ms/step - loss: 0.4156 - accuracy: 0.8556 - val_loss: 0.4297 - val_accuracy: 0.8517\n",
            "epoch 7\n",
            "844/844 [==============================] - 3s 4ms/step - loss: 0.4058 - accuracy: 0.8578 - val_loss: 0.4205 - val_accuracy: 0.8553\n",
            "epoch 8\n",
            "844/844 [==============================] - 3s 4ms/step - loss: 0.3952 - accuracy: 0.8633 - val_loss: 0.4387 - val_accuracy: 0.8435\n",
            "epoch 9\n",
            "844/844 [==============================] - 3s 4ms/step - loss: 0.3865 - accuracy: 0.8663 - val_loss: 0.3914 - val_accuracy: 0.8667\n",
            "epoch 10\n",
            "844/844 [==============================] - 3s 4ms/step - loss: 0.3789 - accuracy: 0.8679 - val_loss: 0.3865 - val_accuracy: 0.8655\n",
            "epoch 11\n",
            "844/844 [==============================] - 3s 4ms/step - loss: 0.3713 - accuracy: 0.8702 - val_loss: 0.3964 - val_accuracy: 0.8567\n",
            "epoch 12\n",
            "844/844 [==============================] - 3s 4ms/step - loss: 0.3644 - accuracy: 0.8724 - val_loss: 0.3692 - val_accuracy: 0.8710\n",
            "epoch 13\n",
            "844/844 [==============================] - 3s 4ms/step - loss: 0.3581 - accuracy: 0.8751 - val_loss: 0.3649 - val_accuracy: 0.8733\n",
            "epoch 14\n",
            "844/844 [==============================] - 3s 4ms/step - loss: 0.3533 - accuracy: 0.8755 - val_loss: 0.3644 - val_accuracy: 0.8747\n",
            "epoch 15\n",
            "844/844 [==============================] - 3s 4ms/step - loss: 0.3478 - accuracy: 0.8779 - val_loss: 0.3593 - val_accuracy: 0.8755\n",
            "epoch 16\n",
            "844/844 [==============================] - 3s 4ms/step - loss: 0.3425 - accuracy: 0.8792 - val_loss: 0.3595 - val_accuracy: 0.8752\n",
            "epoch 17\n",
            "844/844 [==============================] - 3s 4ms/step - loss: 0.3379 - accuracy: 0.8806 - val_loss: 0.3735 - val_accuracy: 0.8650\n",
            "epoch 18\n",
            "844/844 [==============================] - 3s 4ms/step - loss: 0.3327 - accuracy: 0.8827 - val_loss: 0.3497 - val_accuracy: 0.8765\n",
            "epoch 19\n",
            "844/844 [==============================] - 3s 4ms/step - loss: 0.3284 - accuracy: 0.8845 - val_loss: 0.3549 - val_accuracy: 0.8772\n",
            "epoch 20\n",
            "844/844 [==============================] - 3s 4ms/step - loss: 0.3238 - accuracy: 0.8863 - val_loss: 0.3546 - val_accuracy: 0.8782\n",
            "epoch 21\n",
            "844/844 [==============================] - 3s 4ms/step - loss: 0.3201 - accuracy: 0.8869 - val_loss: 0.3638 - val_accuracy: 0.8712\n",
            "epoch 22\n",
            "844/844 [==============================] - 3s 4ms/step - loss: 0.3161 - accuracy: 0.8879 - val_loss: 0.3490 - val_accuracy: 0.8770\n",
            "epoch 23\n",
            "844/844 [==============================] - 3s 4ms/step - loss: 0.3125 - accuracy: 0.8889 - val_loss: 0.3491 - val_accuracy: 0.8748\n",
            "epoch 24\n",
            "844/844 [==============================] - 3s 4ms/step - loss: 0.3090 - accuracy: 0.8899 - val_loss: 0.3535 - val_accuracy: 0.8780\n",
            "epoch 25\n",
            "844/844 [==============================] - 3s 4ms/step - loss: 0.3048 - accuracy: 0.8923 - val_loss: 0.3414 - val_accuracy: 0.8788\n",
            "epoch 26\n",
            "844/844 [==============================] - 3s 4ms/step - loss: 0.3018 - accuracy: 0.8939 - val_loss: 0.3415 - val_accuracy: 0.8802\n",
            "epoch 27\n",
            "844/844 [==============================] - 3s 4ms/step - loss: 0.2980 - accuracy: 0.8937 - val_loss: 0.3433 - val_accuracy: 0.8773\n",
            "epoch 28\n",
            "844/844 [==============================] - 3s 4ms/step - loss: 0.2951 - accuracy: 0.8944 - val_loss: 0.3300 - val_accuracy: 0.8827\n",
            "epoch 29\n",
            "844/844 [==============================] - 3s 4ms/step - loss: 0.2916 - accuracy: 0.8965 - val_loss: 0.3424 - val_accuracy: 0.8760\n",
            "epoch 30\n",
            "844/844 [==============================] - 3s 4ms/step - loss: 0.2890 - accuracy: 0.8974 - val_loss: 0.3290 - val_accuracy: 0.8820\n",
            "epoch 31\n",
            "844/844 [==============================] - 3s 4ms/step - loss: 0.2850 - accuracy: 0.8996 - val_loss: 0.3417 - val_accuracy: 0.8813\n",
            "epoch 32\n",
            "844/844 [==============================] - 3s 4ms/step - loss: 0.2825 - accuracy: 0.8989 - val_loss: 0.3251 - val_accuracy: 0.8865\n",
            "epoch 33\n",
            "844/844 [==============================] - 3s 4ms/step - loss: 0.2788 - accuracy: 0.9012 - val_loss: 0.3212 - val_accuracy: 0.8870\n",
            "epoch 34\n",
            "844/844 [==============================] - 3s 4ms/step - loss: 0.2773 - accuracy: 0.9005 - val_loss: 0.3313 - val_accuracy: 0.8840\n",
            "epoch 35\n",
            "844/844 [==============================] - 3s 4ms/step - loss: 0.2734 - accuracy: 0.9024 - val_loss: 0.3195 - val_accuracy: 0.8878\n",
            "epoch 36\n",
            "844/844 [==============================] - 3s 4ms/step - loss: 0.2710 - accuracy: 0.9030 - val_loss: 0.3340 - val_accuracy: 0.8780\n",
            "epoch 37\n",
            "844/844 [==============================] - 3s 4ms/step - loss: 0.2677 - accuracy: 0.9045 - val_loss: 0.3167 - val_accuracy: 0.8878\n",
            "epoch 38\n",
            "844/844 [==============================] - 3s 4ms/step - loss: 0.2655 - accuracy: 0.9046 - val_loss: 0.3189 - val_accuracy: 0.8863\n",
            "epoch 39\n",
            "844/844 [==============================] - 3s 4ms/step - loss: 0.2628 - accuracy: 0.9059 - val_loss: 0.3198 - val_accuracy: 0.8858\n",
            "epoch 40\n",
            "844/844 [==============================] - 3s 4ms/step - loss: 0.2607 - accuracy: 0.9061 - val_loss: 0.3197 - val_accuracy: 0.8858\n",
            "epoch 41\n",
            "844/844 [==============================] - 3s 4ms/step - loss: 0.2571 - accuracy: 0.9081 - val_loss: 0.3277 - val_accuracy: 0.8822\n",
            "epoch 42\n",
            "844/844 [==============================] - 3s 4ms/step - loss: 0.2559 - accuracy: 0.9080 - val_loss: 0.3159 - val_accuracy: 0.8905\n",
            "epoch 43\n",
            "844/844 [==============================] - 3s 4ms/step - loss: 0.2527 - accuracy: 0.9094 - val_loss: 0.3144 - val_accuracy: 0.8910\n",
            "epoch 44\n",
            "844/844 [==============================] - 3s 4ms/step - loss: 0.2512 - accuracy: 0.9097 - val_loss: 0.3128 - val_accuracy: 0.8900\n",
            "epoch 45\n",
            "844/844 [==============================] - 3s 4ms/step - loss: 0.2489 - accuracy: 0.9112 - val_loss: 0.3181 - val_accuracy: 0.8860\n",
            "epoch 46\n",
            "844/844 [==============================] - 3s 4ms/step - loss: 0.2453 - accuracy: 0.9127 - val_loss: 0.3130 - val_accuracy: 0.8867\n",
            "epoch 47\n",
            "844/844 [==============================] - 3s 4ms/step - loss: 0.2441 - accuracy: 0.9136 - val_loss: 0.3159 - val_accuracy: 0.8900\n",
            "epoch 48\n",
            "844/844 [==============================] - 3s 4ms/step - loss: 0.2413 - accuracy: 0.9136 - val_loss: 0.3172 - val_accuracy: 0.8865\n",
            "epoch 49\n",
            "844/844 [==============================] - 3s 4ms/step - loss: 0.2393 - accuracy: 0.9144 - val_loss: 0.3133 - val_accuracy: 0.8900\n",
            "epoch 50\n",
            "844/844 [==============================] - 3s 4ms/step - loss: 0.2364 - accuracy: 0.9166 - val_loss: 0.3093 - val_accuracy: 0.8870\n",
            "epoch 51\n",
            "844/844 [==============================] - 3s 4ms/step - loss: 0.2356 - accuracy: 0.9162 - val_loss: 0.3307 - val_accuracy: 0.8832\n",
            "epoch 52\n",
            "844/844 [==============================] - 3s 4ms/step - loss: 0.2319 - accuracy: 0.9182 - val_loss: 0.3019 - val_accuracy: 0.8910\n",
            "epoch 53\n",
            "844/844 [==============================] - 3s 4ms/step - loss: 0.2311 - accuracy: 0.9182 - val_loss: 0.3221 - val_accuracy: 0.8865\n",
            "epoch 54\n",
            "844/844 [==============================] - 3s 4ms/step - loss: 0.2277 - accuracy: 0.9191 - val_loss: 0.3072 - val_accuracy: 0.8898\n",
            "epoch 55\n",
            "844/844 [==============================] - 4s 4ms/step - loss: 0.2266 - accuracy: 0.9187 - val_loss: 0.3204 - val_accuracy: 0.8893\n",
            "epoch 56\n",
            "844/844 [==============================] - 3s 4ms/step - loss: 0.2240 - accuracy: 0.9204 - val_loss: 0.3107 - val_accuracy: 0.8925\n",
            "epoch 57\n",
            "844/844 [==============================] - 3s 4ms/step - loss: 0.2227 - accuracy: 0.9209 - val_loss: 0.3087 - val_accuracy: 0.8923\n",
            "epoch 58\n",
            "844/844 [==============================] - 3s 4ms/step - loss: 0.2202 - accuracy: 0.9217 - val_loss: 0.3048 - val_accuracy: 0.8928\n",
            "epoch 59\n",
            "844/844 [==============================] - 3s 4ms/step - loss: 0.2178 - accuracy: 0.9221 - val_loss: 0.3172 - val_accuracy: 0.8885\n",
            "epoch 60\n",
            "844/844 [==============================] - 4s 4ms/step - loss: 0.2172 - accuracy: 0.9226 - val_loss: 0.3467 - val_accuracy: 0.8785\n",
            "epoch 61\n",
            "844/844 [==============================] - 3s 4ms/step - loss: 0.2143 - accuracy: 0.9240 - val_loss: 0.3096 - val_accuracy: 0.8935\n",
            "epoch 62\n",
            "844/844 [==============================] - 3s 4ms/step - loss: 0.2124 - accuracy: 0.9249 - val_loss: 0.3078 - val_accuracy: 0.8893\n",
            "epoch 63\n",
            "844/844 [==============================] - 3s 4ms/step - loss: 0.2106 - accuracy: 0.9256 - val_loss: 0.3082 - val_accuracy: 0.8913\n",
            "epoch 64\n",
            "844/844 [==============================] - 3s 4ms/step - loss: 0.2088 - accuracy: 0.9263 - val_loss: 0.3148 - val_accuracy: 0.8902\n"
          ]
        }
      ]
    },
    {
      "cell_type": "markdown",
      "source": [
        "test the model"
      ],
      "metadata": {
        "id": "QrGa622mH2z0"
      }
    },
    {
      "cell_type": "code",
      "source": [
        "score = model.evaluate(x_test, y_testMLP, batch_size=128, verbose=0)\n",
        "print('Test loss:', score[0])\n",
        "print('Test accuracy:', score[1])"
      ],
      "metadata": {
        "colab": {
          "base_uri": "https://localhost:8080/"
        },
        "id": "ZG97_NswH4qG",
        "outputId": "ce3cfdc4-da2c-4111-da01-39cbee297453"
      },
      "execution_count": null,
      "outputs": [
        {
          "output_type": "stream",
          "name": "stdout",
          "text": [
            "Test loss: 0.34291571378707886\n",
            "Test accuracy: 0.8802000284194946\n"
          ]
        }
      ]
    },
    {
      "cell_type": "markdown",
      "source": [
        "the test accuracy is 88.86%"
      ],
      "metadata": {
        "id": "2w36hd4AVv3c"
      }
    },
    {
      "cell_type": "markdown",
      "source": [
        "2D CNN"
      ],
      "metadata": {
        "id": "yNpofc5kM7EE"
      }
    },
    {
      "cell_type": "markdown",
      "source": [
        "reshape"
      ],
      "metadata": {
        "id": "RuI__p76fKEv"
      }
    },
    {
      "cell_type": "code",
      "source": [
        "x_train = x_train.reshape(-1,28,28)\n",
        "x_test = x_test.reshape(-1,28,28)\n",
        "x_val = x_val.reshape(-1,28,28)"
      ],
      "metadata": {
        "id": "U0VlLAriVUh0"
      },
      "execution_count": null,
      "outputs": []
    },
    {
      "cell_type": "code",
      "source": [
        "x_trainCNN = np.expand_dims(x_train, axis=-1)\n",
        "x_testCNN = np.expand_dims(x_test, axis=-1)\n",
        "x_valCNN = np.expand_dims(x_val, axis=-1)\n",
        "\n",
        "print('train:', x_trainCNN.shape, y_train.shape)\n",
        "print('validation:', x_valCNN.shape, y_val.shape)\n",
        "print('test:', x_testCNN.shape, y_test.shape)"
      ],
      "metadata": {
        "id": "1ZG__ISEM-I8",
        "colab": {
          "base_uri": "https://localhost:8080/"
        },
        "outputId": "4bdce1e5-5a0b-4fa5-ea94-852244895b5e"
      },
      "execution_count": null,
      "outputs": [
        {
          "output_type": "stream",
          "name": "stdout",
          "text": [
            "train: (54000, 28, 28, 1) (54000,)\n",
            "validation: (6000, 28, 28, 1) (6000,)\n",
            "test: (10000, 28, 28, 1) (10000,)\n"
          ]
        }
      ]
    },
    {
      "cell_type": "markdown",
      "source": [
        "define the model"
      ],
      "metadata": {
        "id": "ROOJ8rWkfTks"
      }
    },
    {
      "cell_type": "code",
      "source": [
        "from keras.layers import Dense, BatchNormalization, Dropout\n",
        "from keras.layers import Conv2D, MaxPooling2D, Flatten\n",
        "from tensorflow.keras.optimizers import SGD, Adam\n",
        "model = Sequential()\n",
        "model.add(Conv2D(filters=32, kernel_size=3, strides=1, padding='same', activation = 'relu', input_shape=(28,28,1)))\n",
        "model.add(MaxPooling2D(pool_size=2))\n",
        "model.add(Conv2D(filters=64, kernel_size=3, strides=1, padding='same', activation = 'relu'))\n",
        "model.add(Flatten())\n",
        "model.add(Dense(units=1024, activation='relu'))\n",
        "model.add(Dense(units=10,  activation='softmax'))\n",
        "optimizer=Adam(lr=0.001)\n",
        "model.compile(loss='sparse_categorical_crossentropy', optimizer=optimizer, metrics=['accuracy'])\n",
        "model.summary()"
      ],
      "metadata": {
        "colab": {
          "base_uri": "https://localhost:8080/"
        },
        "id": "7VYu0mRkQAIB",
        "outputId": "23e2ac71-2b44-473b-a7b4-d011b2ed2934"
      },
      "execution_count": null,
      "outputs": [
        {
          "output_type": "stream",
          "name": "stdout",
          "text": [
            "Model: \"sequential_1\"\n",
            "_________________________________________________________________\n",
            " Layer (type)                Output Shape              Param #   \n",
            "=================================================================\n",
            " conv2d (Conv2D)             (None, 28, 28, 32)        320       \n",
            "                                                                 \n",
            " max_pooling2d (MaxPooling2D  (None, 14, 14, 32)       0         \n",
            " )                                                               \n",
            "                                                                 \n",
            " conv2d_1 (Conv2D)           (None, 14, 14, 64)        18496     \n",
            "                                                                 \n",
            " flatten (Flatten)           (None, 12544)             0         \n",
            "                                                                 \n",
            " dense_3 (Dense)             (None, 1024)              12846080  \n",
            "                                                                 \n",
            " dense_4 (Dense)             (None, 10)                10250     \n",
            "                                                                 \n",
            "=================================================================\n",
            "Total params: 12,875,146\n",
            "Trainable params: 12,875,146\n",
            "Non-trainable params: 0\n",
            "_________________________________________________________________\n"
          ]
        },
        {
          "output_type": "stream",
          "name": "stderr",
          "text": [
            "/usr/local/lib/python3.7/dist-packages/keras/optimizer_v2/adam.py:105: UserWarning: The `lr` argument is deprecated, use `learning_rate` instead.\n",
            "  super(Adam, self).__init__(name, **kwargs)\n"
          ]
        }
      ]
    },
    {
      "cell_type": "markdown",
      "source": [
        "train the model"
      ],
      "metadata": {
        "id": "Qrgf1FWDfWI3"
      }
    },
    {
      "cell_type": "code",
      "source": [
        "loss_train_list=[]\n",
        "acc_train_list=[]\n",
        "loss_val_list=[]\n",
        "acc_val_list=[]\n",
        "loss_test_list=[]\n",
        "acc_test_list=[]\n",
        "for epoch in range(40, 61):\n",
        "    #-------- training and validation--------------------------------\n",
        "    print('epoch', epoch)\n",
        "    history=model.fit(x_trainCNN, y_train, batch_size=64, validation_data=(x_valCNN, y_val))    \n",
        "    loss_train=history.history['loss'][0]\n",
        "    acc_train=history.history['accuracy'][0]        \n",
        "    loss_val=history.history['val_loss'][0]\n",
        "    acc_val=history.history['val_accuracy'][0]     \n",
        "    loss_train_list.append(loss_train)\n",
        "    acc_train_list.append(acc_train)\n",
        "    loss_val_list.append(loss_val)\n",
        "    acc_val_list.append(acc_val)    \n",
        "    print('epoch', epoch, 'training loss:', loss_train, 'accuracy:', acc_train)\n",
        "    print('epoch', epoch, 'validation loss:', loss_val, 'accuracy:', acc_val)"
      ],
      "metadata": {
        "colab": {
          "base_uri": "https://localhost:8080/"
        },
        "id": "otErvZbdUDtO",
        "outputId": "4ae04d41-d34f-49b1-9d6f-cf675fd04fab"
      },
      "execution_count": null,
      "outputs": [
        {
          "output_type": "stream",
          "name": "stdout",
          "text": [
            "epoch 40\n",
            "844/844 [==============================] - 19s 14ms/step - loss: 0.3643 - accuracy: 0.8683 - val_loss: 0.2797 - val_accuracy: 0.8915\n",
            "epoch 40 training loss: 0.3643053472042084 accuracy: 0.8682963252067566\n",
            "epoch 40 validation loss: 0.27970242500305176 accuracy: 0.8914999961853027\n",
            "epoch 41\n",
            "844/844 [==============================] - 12s 14ms/step - loss: 0.2307 - accuracy: 0.9151 - val_loss: 0.2462 - val_accuracy: 0.9085\n",
            "epoch 41 training loss: 0.23067227005958557 accuracy: 0.9150555729866028\n",
            "epoch 41 validation loss: 0.24623681604862213 accuracy: 0.9085000157356262\n",
            "epoch 42\n",
            "844/844 [==============================] - 12s 14ms/step - loss: 0.1769 - accuracy: 0.9329 - val_loss: 0.2175 - val_accuracy: 0.9202\n",
            "epoch 42 training loss: 0.17685559391975403 accuracy: 0.9328518509864807\n",
            "epoch 42 validation loss: 0.21754850447177887 accuracy: 0.9201666712760925\n",
            "epoch 43\n",
            "844/844 [==============================] - 12s 14ms/step - loss: 0.1320 - accuracy: 0.9504 - val_loss: 0.2411 - val_accuracy: 0.9095\n",
            "epoch 43 training loss: 0.1320495307445526 accuracy: 0.9503889083862305\n",
            "epoch 43 validation loss: 0.24107512831687927 accuracy: 0.909500002861023\n",
            "epoch 44\n",
            "844/844 [==============================] - 12s 14ms/step - loss: 0.0966 - accuracy: 0.9639 - val_loss: 0.2366 - val_accuracy: 0.9267\n",
            "epoch 44 training loss: 0.09656582027673721 accuracy: 0.9639074206352234\n",
            "epoch 44 validation loss: 0.2366226464509964 accuracy: 0.9266666769981384\n",
            "epoch 45\n",
            "844/844 [==============================] - 12s 14ms/step - loss: 0.0686 - accuracy: 0.9753 - val_loss: 0.2688 - val_accuracy: 0.9205\n",
            "epoch 45 training loss: 0.0686497613787651 accuracy: 0.9752777814865112\n",
            "epoch 45 validation loss: 0.26879245042800903 accuracy: 0.9204999804496765\n",
            "epoch 46\n",
            "844/844 [==============================] - 12s 14ms/step - loss: 0.0492 - accuracy: 0.9819 - val_loss: 0.2610 - val_accuracy: 0.9332\n",
            "epoch 46 training loss: 0.049196239560842514 accuracy: 0.9819074273109436\n",
            "epoch 46 validation loss: 0.2610290050506592 accuracy: 0.9331666827201843\n",
            "epoch 47\n",
            "844/844 [==============================] - 12s 14ms/step - loss: 0.0343 - accuracy: 0.9877 - val_loss: 0.3098 - val_accuracy: 0.9267\n",
            "epoch 47 training loss: 0.03430730849504471 accuracy: 0.9877036809921265\n",
            "epoch 47 validation loss: 0.30984050035476685 accuracy: 0.9266666769981384\n",
            "epoch 48\n",
            "844/844 [==============================] - 12s 14ms/step - loss: 0.0268 - accuracy: 0.9904 - val_loss: 0.2956 - val_accuracy: 0.9272\n",
            "epoch 48 training loss: 0.02676985040307045 accuracy: 0.9903703927993774\n",
            "epoch 48 validation loss: 0.29556187987327576 accuracy: 0.9271666407585144\n",
            "epoch 49\n",
            "844/844 [==============================] - 12s 14ms/step - loss: 0.0235 - accuracy: 0.9919 - val_loss: 0.3562 - val_accuracy: 0.9290\n",
            "epoch 49 training loss: 0.023452693596482277 accuracy: 0.9918888807296753\n",
            "epoch 49 validation loss: 0.35619035363197327 accuracy: 0.9290000200271606\n",
            "epoch 50\n",
            "844/844 [==============================] - 12s 14ms/step - loss: 0.0195 - accuracy: 0.9931 - val_loss: 0.3710 - val_accuracy: 0.9215\n",
            "epoch 50 training loss: 0.019536321982741356 accuracy: 0.9930740594863892\n",
            "epoch 50 validation loss: 0.37099409103393555 accuracy: 0.921500027179718\n",
            "epoch 51\n",
            "844/844 [==============================] - 12s 15ms/step - loss: 0.0169 - accuracy: 0.9939 - val_loss: 0.3749 - val_accuracy: 0.9297\n",
            "epoch 51 training loss: 0.016874147579073906 accuracy: 0.993925929069519\n",
            "epoch 51 validation loss: 0.3748644292354584 accuracy: 0.9296666383743286\n",
            "epoch 52\n",
            "844/844 [==============================] - 12s 14ms/step - loss: 0.0147 - accuracy: 0.9951 - val_loss: 0.4015 - val_accuracy: 0.9242\n",
            "epoch 52 training loss: 0.01466088742017746 accuracy: 0.9951296448707581\n",
            "epoch 52 validation loss: 0.40149104595184326 accuracy: 0.9241666793823242\n",
            "epoch 53\n",
            "844/844 [==============================] - 12s 14ms/step - loss: 0.0150 - accuracy: 0.9952 - val_loss: 0.4562 - val_accuracy: 0.9210\n",
            "epoch 53 training loss: 0.01502760499715805 accuracy: 0.9951851963996887\n",
            "epoch 53 validation loss: 0.45620813965797424 accuracy: 0.9210000038146973\n",
            "epoch 54\n",
            "844/844 [==============================] - 12s 14ms/step - loss: 0.0127 - accuracy: 0.9958 - val_loss: 0.4024 - val_accuracy: 0.9275\n",
            "epoch 54 training loss: 0.012732317671179771 accuracy: 0.9958148002624512\n",
            "epoch 54 validation loss: 0.4023880660533905 accuracy: 0.9275000095367432\n",
            "epoch 55\n",
            "844/844 [==============================] - 12s 14ms/step - loss: 0.0124 - accuracy: 0.9960 - val_loss: 0.4614 - val_accuracy: 0.9213\n",
            "epoch 55 training loss: 0.01235663890838623 accuracy: 0.9959629774093628\n",
            "epoch 55 validation loss: 0.4613837003707886 accuracy: 0.9213333129882812\n",
            "epoch 56\n",
            "844/844 [==============================] - 12s 14ms/step - loss: 0.0090 - accuracy: 0.9970 - val_loss: 0.4691 - val_accuracy: 0.9290\n",
            "epoch 56 training loss: 0.009014165960252285 accuracy: 0.9970185160636902\n",
            "epoch 56 validation loss: 0.4690598249435425 accuracy: 0.9290000200271606\n",
            "epoch 57\n",
            "844/844 [==============================] - 12s 14ms/step - loss: 0.0146 - accuracy: 0.9952 - val_loss: 0.4654 - val_accuracy: 0.9202\n",
            "epoch 57 training loss: 0.014646867290139198 accuracy: 0.9952222108840942\n",
            "epoch 57 validation loss: 0.46543294191360474 accuracy: 0.9201666712760925\n",
            "epoch 58\n",
            "844/844 [==============================] - 12s 14ms/step - loss: 0.0084 - accuracy: 0.9971 - val_loss: 0.5002 - val_accuracy: 0.9250\n",
            "epoch 58 training loss: 0.008440195582807064 accuracy: 0.9970740675926208\n",
            "epoch 58 validation loss: 0.50023353099823 accuracy: 0.925000011920929\n",
            "epoch 59\n",
            "844/844 [==============================] - 12s 14ms/step - loss: 0.0087 - accuracy: 0.9971 - val_loss: 0.4925 - val_accuracy: 0.9260\n",
            "epoch 59 training loss: 0.008735002018511295 accuracy: 0.9971296191215515\n",
            "epoch 59 validation loss: 0.49249765276908875 accuracy: 0.9259999990463257\n",
            "epoch 60\n",
            "844/844 [==============================] - 12s 14ms/step - loss: 0.0115 - accuracy: 0.9964 - val_loss: 0.5147 - val_accuracy: 0.9283\n",
            "epoch 60 training loss: 0.011475790292024612 accuracy: 0.9963889122009277\n",
            "epoch 60 validation loss: 0.5146751999855042 accuracy: 0.9283333420753479\n"
          ]
        }
      ]
    },
    {
      "cell_type": "markdown",
      "source": [
        "test"
      ],
      "metadata": {
        "id": "wbQN_cIqfd5B"
      }
    },
    {
      "cell_type": "code",
      "source": [
        "score = model.evaluate(x_testCNN, y_test)\n",
        "print('Test loss:', score[0]) \n",
        "print('Test accuracy:', score[1])"
      ],
      "metadata": {
        "id": "EbnORfftUF-y",
        "colab": {
          "base_uri": "https://localhost:8080/"
        },
        "outputId": "3aa2ec0a-7fd3-46df-e962-f6e87e96ad15"
      },
      "execution_count": null,
      "outputs": [
        {
          "output_type": "stream",
          "name": "stdout",
          "text": [
            "313/313 [==============================] - 1s 5ms/step - loss: 0.6009 - accuracy: 0.9202\n",
            "Test loss: 0.6008636355400085\n",
            "Test accuracy: 0.920199990272522\n"
          ]
        }
      ]
    },
    {
      "cell_type": "markdown",
      "source": [
        "Accuracy is 92%"
      ],
      "metadata": {
        "id": "GHEj7tjyfDbH"
      }
    }
  ]
}